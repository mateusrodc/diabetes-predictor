{
 "cells": [
  {
   "cell_type": "code",
   "execution_count": 2,
   "id": "bed95687",
   "metadata": {},
   "outputs": [
    {
     "name": "stdout",
     "output_type": "stream",
     "text": [
      "\n",
      "Logistic Regression - Acurácia: 0.7403\n",
      "\n",
      "Random Forest - Acurácia: 0.7576\n",
      "\n",
      "KNN - Acurácia: 0.7186\n",
      "\n",
      "Melhor modelo: Random Forest com acurácia de 0.7576\n",
      "Relatório de Classificação:\n",
      "               precision    recall  f1-score   support\n",
      "\n",
      "           0       0.82      0.80      0.81       151\n",
      "           1       0.64      0.68      0.66        80\n",
      "\n",
      "    accuracy                           0.76       231\n",
      "   macro avg       0.73      0.74      0.74       231\n",
      "weighted avg       0.76      0.76      0.76       231\n",
      "\n"
     ]
    },
    {
     "data": {
      "image/png": "[encoded data removed]",
      "text/plain": [
       "<Figure size 640x480 with 2 Axes>"
      ]
     },
     "metadata": {},
     "output_type": "display_data"
    },
    {
     "data": {
      "text/plain": [
       "['../src/model.pkl']"
      ]
     },
     "execution_count": 2,
     "metadata": {},
     "output_type": "execute_result"
    }
   ],
   "source": [
    "import sys\n",
    "import os\n",
    "import pandas as pd\n",
    "from sklearn.model_selection import train_test_split\n",
    "from sklearn.preprocessing import StandardScaler\n",
    "from sklearn.linear_model import LogisticRegression\n",
    "from sklearn.ensemble import RandomForestClassifier\n",
    "from sklearn.neighbors import KNeighborsClassifier\n",
    "import numpy as np\n",
    "from sklearn.metrics import classification_report, confusion_matrix\n",
    "import seaborn as sns\n",
    "import matplotlib.pyplot as plt\n",
    "import joblib\n",
    "\n",
    "sys.path.append(os.path.abspath('../src'))\n",
    "from data_preprocessing import load_and_clean_data, split_features_labels, normalize_features\n",
    "from model import get_models, train_model, evaluate_model, save_model\n",
    "\n",
    "# Etapa 1: Carregar e preparar dados\n",
    "df = load_and_clean_data('../data/diabetes.csv')\n",
    "X, y = split_features_labels(df)\n",
    "X_scaled, scaler = normalize_features(X)\n",
    "\n",
    "joblib.dump(scaler, '../src/scaler.pkl')\n",
    "\n",
    "# Etapa 2: Dividir em treino e teste\n",
    "X_train, X_test, y_train, y_test = train_test_split(X_scaled, y, test_size=0.3, random_state=42)\n",
    "\n",
    "# Etapa 3: Treinar e avaliar modelos\n",
    "models = get_models()\n",
    "best_model = None\n",
    "best_score = 0\n",
    "best_name = ''\n",
    "\n",
    "for name, model in models.items():\n",
    "    trained = train_model(model, X_train, y_train)\n",
    "    acc, report, matrix = evaluate_model(trained, X_test, y_test)\n",
    "    print(f'\\n{name} - Acurácia: {acc:.4f}')\n",
    "\n",
    "    if acc > best_score:\n",
    "        best_model = trained\n",
    "        best_score = acc\n",
    "        best_name = name\n",
    "\n",
    "print(f'\\nMelhor modelo: {best_name} com acurácia de {best_score:.4f}')\n",
    "\n",
    "\n",
    "# Exemplo com Random Forest\n",
    "y_pred = best_model.predict(X_test)\n",
    "\n",
    "print(\"Relatório de Classificação:\\n\", classification_report(y_test, y_pred))\n",
    "\n",
    "# Matriz de confusão\n",
    "conf_mat = confusion_matrix(y_test, y_pred)\n",
    "sns.heatmap(conf_mat, annot=True, cmap='Blues', fmt='d')\n",
    "plt.title('Matriz de Confusão - Random Forest')\n",
    "plt.xlabel('Predito')\n",
    "plt.ylabel('Real')\n",
    "plt.show()\n",
    "\n",
    "\n",
    "joblib.dump(best_model, '../src/model.pkl')"
   ]
  },
  {
   "cell_type": "code",
   "execution_count": null,
   "id": "2a35e1eb-46e8-40ea-b164-1ac0747e41fb",
   "metadata": {},
   "outputs": [],
   "source": []
  }
 ],
 "metadata": {
  "kernelspec": {
   "display_name": "Python 3 (ipykernel)",
   "language": "python",
   "name": "python3"
  },
  "language_info": {
   "codemirror_mode": {
    "name": "ipython",
    "version": 3
   },
   "file_extension": ".py",
   "mimetype": "text/x-python",
   "name": "python",
   "nbconvert_exporter": "python",
   "pygments_lexer": "ipython3",
   "version": "3.10.6"
  }
 },
 "nbformat": 4,
 "nbformat_minor": 5
}
